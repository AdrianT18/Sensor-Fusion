{
  "cells": [
    {
      "cell_type": "markdown",
      "metadata": {
        "id": "view-in-github",
        "colab_type": "text"
      },
      "source": [
        "<a href=\"https://colab.research.google.com/github/AdrianT18/Sensor-Fusion/blob/master/Yolov7_Cone_Training.ipynb\" target=\"_parent\"><img src=\"https://colab.research.google.com/assets/colab-badge.svg\" alt=\"Open In Colab\"/></a>"
      ]
    },
    {
      "cell_type": "code",
      "execution_count": null,
      "metadata": {
        "id": "O53CR1XoepJR"
      },
      "outputs": [],
      "source": [
        "!git clone https://github.com/WongKinYiu/yolov7.git\n",
        "%cd yolov7\n"
      ]
    },
    {
      "cell_type": "markdown",
      "source": [
        "Change cones/data.yaml to this :\n",
        "\n",
        "train: cones/train/images\n",
        "val: cones/valid/images\n",
        "test: cones/test/images\n",
        "\n",
        "nc: 5\n",
        "names: ['blue_cone', 'large_orange_cone', 'orange_cone', 'unknown_cone', 'yellow_cone']\n"
      ],
      "metadata": {
        "id": "gLzX37RQmThS"
      }
    },
    {
      "cell_type": "code",
      "execution_count": null,
      "metadata": {
        "id": "Vbfyknzpes-y"
      },
      "outputs": [],
      "source": [
        "!pip install roboflow\n",
        "\n",
        "from roboflow import Roboflow\n",
        "rf = Roboflow(api_key=\"n2I2gDYKeibZqJ01rfSI\")\n",
        "project = rf.workspace(\"yolov7cones\").project(\"cones-sk1nq\")\n",
        "dataset = project.version(2).download(\"yolov7\")\n"
      ]
    },
    {
      "cell_type": "code",
      "execution_count": null,
      "metadata": {
        "id": "Sgms3Ld8fJse"
      },
      "outputs": [],
      "source": [
        "%cd /content/yolov7\n",
        "!wget -O yolov7.pt 'https://github.com/WongKinYiu/yolov7/releases/download/v0.1/yolov7.pt'"
      ]
    },
    {
      "cell_type": "code",
      "execution_count": null,
      "metadata": {
        "id": "XVqtpUKBfdx2"
      },
      "outputs": [],
      "source": [
        "%cd /content/yolov7\n",
        "!python train.py --batch 16 --cfg cfg/training/yolov7.yaml --epochs 50 --data cones-2/data.yaml --weights 'yolov7.pt' --device 0"
      ]
    },
    {
      "cell_type": "code",
      "execution_count": null,
      "metadata": {
        "id": "WDfPm0DyfeAK"
      },
      "outputs": [],
      "source": [
        "!python detect.py --weights runs/train/exp/weights/best.pt --conf 0.1 --source cones/test/images"
      ]
    },
    {
      "cell_type": "code",
      "source": [
        "!python test.py --weights runs/train/exp/weights/best.pt --data data.yaml --task test --name yolo_detection"
      ],
      "metadata": {
        "id": "7a9BQKT61CAR"
      },
      "execution_count": null,
      "outputs": []
    },
    {
      "cell_type": "markdown",
      "source": [
        "test: Scanning 'cones-2/test/labels' images and labels... 1496 found, 0 missing,\n",
        "               Class      Images      Labels           P           R      mAP@.5\n",
        "                 all        1496       30832       0.801       0.732       0.765       0.493\n",
        "           blue_cone        1496       12213       0.904       0.796       0.856       0.548\n",
        "   large_orange_cone        1496        1041       0.823       0.833       0.867       0.633\n",
        "         orange_cone        1496        3354       0.864       0.796       0.848       0.553\n",
        "        unknown_cone        1496        1098       0.516       0.427       0.391       0.186\n",
        "         yellow_cone        1496       13126         0.9       0.806       0.863       0.545\n",
        "Speed: 14.3/1.4/15.7 ms inference/NMS/total per 640x640 image at batch-size 32\n",
        "Results saved to runs/test/yolo_detection4\n"
      ],
      "metadata": {
        "id": "NQ768cIGlAau"
      }
    },
    {
      "cell_type": "code",
      "execution_count": null,
      "metadata": {
        "id": "R1GEF5o8h1Op"
      },
      "outputs": [],
      "source": [
        "import glob\n",
        "from IPython.display import Image, display\n",
        "\n",
        "i = 0\n",
        "limit = 10000\n",
        "for imageName in glob.glob('/content/yolov7/runs/detect/exp2/*.jpg'):\n",
        "  if i < limit:\n",
        "    display(Image(filename=imageName))\n",
        "    print(\"\\n\")\n",
        "  i = i + 1"
      ]
    },
    {
      "cell_type": "code",
      "execution_count": null,
      "metadata": {
        "id": "lEv3GGiAhgSM"
      },
      "outputs": [],
      "source": [
        "!zip -r export.zip runs/detect\n",
        "!zip -r export.zip runs/train/exp/weights/best.pt\n",
        "!zip export.zip runs/train/exp/*"
      ]
    },
    {
      "cell_type": "code",
      "source": [
        "from google.colab import files\n",
        "files.download('export.zip')\n"
      ],
      "metadata": {
        "id": "VBldSxGY4k-J",
        "colab": {
          "base_uri": "https://localhost:8080/",
          "height": 34
        },
        "outputId": "bfd4af9d-9d06-497d-b8cc-aee9dc4408b8"
      },
      "execution_count": null,
      "outputs": [
        {
          "output_type": "display_data",
          "data": {
            "text/plain": [
              "<IPython.core.display.Javascript object>"
            ],
            "application/javascript": [
              "\n",
              "    async function download(id, filename, size) {\n",
              "      if (!google.colab.kernel.accessAllowed) {\n",
              "        return;\n",
              "      }\n",
              "      const div = document.createElement('div');\n",
              "      const label = document.createElement('label');\n",
              "      label.textContent = `Downloading \"${filename}\": `;\n",
              "      div.appendChild(label);\n",
              "      const progress = document.createElement('progress');\n",
              "      progress.max = size;\n",
              "      div.appendChild(progress);\n",
              "      document.body.appendChild(div);\n",
              "\n",
              "      const buffers = [];\n",
              "      let downloaded = 0;\n",
              "\n",
              "      const channel = await google.colab.kernel.comms.open(id);\n",
              "      // Send a message to notify the kernel that we're ready.\n",
              "      channel.send({})\n",
              "\n",
              "      for await (const message of channel.messages) {\n",
              "        // Send a message to notify the kernel that we're ready.\n",
              "        channel.send({})\n",
              "        if (message.buffers) {\n",
              "          for (const buffer of message.buffers) {\n",
              "            buffers.push(buffer);\n",
              "            downloaded += buffer.byteLength;\n",
              "            progress.value = downloaded;\n",
              "          }\n",
              "        }\n",
              "      }\n",
              "      const blob = new Blob(buffers, {type: 'application/binary'});\n",
              "      const a = document.createElement('a');\n",
              "      a.href = window.URL.createObjectURL(blob);\n",
              "      a.download = filename;\n",
              "      div.appendChild(a);\n",
              "      a.click();\n",
              "      div.remove();\n",
              "    }\n",
              "  "
            ]
          },
          "metadata": {}
        },
        {
          "output_type": "display_data",
          "data": {
            "text/plain": [
              "<IPython.core.display.Javascript object>"
            ],
            "application/javascript": [
              "download(\"download_6b52ad26-9fed-4ddc-bfe8-46f14ee1a8e6\", \"export.zip\", 89012886)"
            ]
          },
          "metadata": {}
        }
      ]
    }
  ],
  "metadata": {
    "accelerator": "GPU",
    "colab": {
      "provenance": [],
      "gpuType": "T4",
      "mount_file_id": "12_nr5w1ZD5yurm_515MSJlMMeRGVx6bQ",
      "authorship_tag": "ABX9TyMQeeVJG07MRVv0CyhYj3bJ",
      "include_colab_link": true
    },
    "kernelspec": {
      "display_name": "Python 3",
      "name": "python3"
    },
    "language_info": {
      "name": "python"
    }
  },
  "nbformat": 4,
  "nbformat_minor": 0
}